{
  "cells": [
    {
      "cell_type": "code",
      "execution_count": null,
      "metadata": {
        "colab": {
          "base_uri": "https://localhost:8080/"
        },
        "id": "mwI6ZRPDc05F",
        "outputId": "61343f0a-76b8-446b-a8d2-6ee8d3739bdd"
      },
      "outputs": [
        {
          "output_type": "stream",
          "name": "stdout",
          "text": [
            "Collecting pyspark\n",
            "  Downloading pyspark-3.2.1.tar.gz (281.4 MB)\n",
            "\u001b[K     |████████████████████████████████| 281.4 MB 34 kB/s \n",
            "\u001b[?25hCollecting py4j==0.10.9.3\n",
            "  Downloading py4j-0.10.9.3-py2.py3-none-any.whl (198 kB)\n",
            "\u001b[K     |████████████████████████████████| 198 kB 42.1 MB/s \n",
            "\u001b[?25hBuilding wheels for collected packages: pyspark\n",
            "  Building wheel for pyspark (setup.py) ... \u001b[?25l\u001b[?25hdone\n",
            "  Created wheel for pyspark: filename=pyspark-3.2.1-py2.py3-none-any.whl size=281853642 sha256=0170e18c666a9f15a9fa62a4b6af877598f01ff9282b69e20b3fcf84b0b05c95\n",
            "  Stored in directory: /root/.cache/pip/wheels/9f/f5/07/7cd8017084dce4e93e84e92efd1e1d5334db05f2e83bcef74f\n",
            "Successfully built pyspark\n",
            "Installing collected packages: py4j, pyspark\n",
            "Successfully installed py4j-0.10.9.3 pyspark-3.2.1\n"
          ]
        }
      ],
      "source": [
        "!pip install pyspark"
      ]
    },
    {
      "cell_type": "code",
      "execution_count": null,
      "metadata": {
        "id": "j-L1p1DCYWNZ"
      },
      "outputs": [],
      "source": [
        "import os\n",
        "import pandas as pd\n",
        "import numpy as np\n",
        "\n",
        "from pyspark import SparkConf, SparkContext\n",
        "from pyspark.sql import SparkSession,SQLContext\n",
        "\n",
        "from pyspark.sql.types import *\n",
        "from pyspark.sql.functions import udf, col\n",
        "import pyspark.sql.functions as F\n",
        "\n",
        "from pyspark.ml.feature import VectorAssembler\n",
        "\n",
        "from pyspark.ml.clustering import KMeans\n",
        "\n",
        "from pyspark.sql.functions import *"
      ]
    },
    {
      "cell_type": "code",
      "execution_count": null,
      "metadata": {
        "id": "38qqLkWLc_1-"
      },
      "outputs": [],
      "source": [
        "from IPython.core.interactiveshell import InteractiveShell\n",
        "InteractiveShell.ast_node_interactivity = \"all\"\n",
        "\n",
        "pd.set_option('display.max_columns', 200)\n",
        "pd.set_option('display.max_colwidth', 400)\n",
        "\n",
        "import matplotlib.pyplot as plt\n",
        "plt.rc('figure', figsize=(18, 4))\n",
        "\n",
        "import seaborn as sns\n",
        "sns.set(context='notebook', style='whitegrid', rc={'figure.figsize': (18,4)})\n",
        "\n",
        "np.set_printoptions(precision=4, suppress=True)\n",
        "\n",
        "%matplotlib inline\n",
        "%config InlineBackend.figure_format = 'retina'"
      ]
    },
    {
      "cell_type": "code",
      "execution_count": null,
      "metadata": {
        "id": "AQGwAm6yfNUr"
      },
      "outputs": [],
      "source": [
        "rnd_seed=42\n",
        "np.random.seed=rnd_seed\n",
        "np.random.set_state=rnd_seed"
      ]
    },
    {
      "cell_type": "code",
      "execution_count": null,
      "metadata": {
        "colab": {
          "base_uri": "https://localhost:8080/",
          "height": 219
        },
        "id": "PAre_JDSfQ1B",
        "outputId": "ad298578-4e9e-4c5d-ca9c-8a782e60392a"
      },
      "outputs": [
        {
          "output_type": "execute_result",
          "data": {
            "text/plain": [
              "<pyspark.sql.session.SparkSession at 0x7f71a2a5b210>"
            ],
            "text/html": [
              "\n",
              "            <div>\n",
              "                <p><b>SparkSession - in-memory</b></p>\n",
              "                \n",
              "        <div>\n",
              "            <p><b>SparkContext</b></p>\n",
              "\n",
              "            <p><a href=\"http://ec360662ac63:4040\">Spark UI</a></p>\n",
              "\n",
              "            <dl>\n",
              "              <dt>Version</dt>\n",
              "                <dd><code>v3.2.1</code></dd>\n",
              "              <dt>Master</dt>\n",
              "                <dd><code>local[*]</code></dd>\n",
              "              <dt>AppName</dt>\n",
              "                <dd><code>cluster-uber-trip-data</code></dd>\n",
              "            </dl>\n",
              "        </div>\n",
              "        \n",
              "            </div>\n",
              "        "
            ]
          },
          "metadata": {},
          "execution_count": 5
        }
      ],
      "source": [
        "spark = (SparkSession\n",
        "         .builder\n",
        "         .master(\"local[*]\")\n",
        "         .appName(\"cluster-uber-trip-data\")\n",
        "         .getOrCreate())\n",
        "spark"
      ]
    },
    {
      "cell_type": "code",
      "execution_count": null,
      "metadata": {
        "colab": {
          "base_uri": "https://localhost:8080/"
        },
        "id": "U70ixAs0fZdT",
        "outputId": "3ca26025-6e1d-43f4-dd98-6083d9f77653"
      },
      "outputs": [
        {
          "output_type": "stream",
          "name": "stdout",
          "text": [
            "Mounted at /content/drive\n"
          ]
        }
      ],
      "source": [
        "from google.colab import drive\n",
        "drive.mount('/content/drive')"
      ]
    },
    {
      "cell_type": "code",
      "execution_count": null,
      "metadata": {
        "id": "a5E3iDMMf-si"
      },
      "outputs": [],
      "source": [
        "import pandas as pd\n",
        "UBER_DATA=('/content/drive/MyDrive/uber/uber-raw-data-jun14.csv')"
      ]
    },
    {
      "cell_type": "code",
      "execution_count": null,
      "metadata": {
        "id": "LLgUTNoVgaM9"
      },
      "outputs": [],
      "source": [
        "schema = StructType([\n",
        "    StructField(\"dt\", TimestampType(), nullable=False),\n",
        "    StructField(\"lat\", DoubleType(), nullable=False),\n",
        "    StructField(\"lon\", DoubleType(), nullable=False),\n",
        "    StructField(\"base\", StringType(), nullable=True)]\n",
        "  )"
      ]
    },
    {
      "cell_type": "code",
      "execution_count": null,
      "metadata": {
        "colab": {
          "base_uri": "https://localhost:8080/"
        },
        "id": "xLYqFfcggeAs",
        "outputId": "76080751-a286-4bc9-c124-b81a0293899b"
      },
      "outputs": [
        {
          "output_type": "execute_result",
          "data": {
            "text/plain": [
              "DataFrame[dt: timestamp, lat: double, lon: double, base: string]"
            ]
          },
          "metadata": {},
          "execution_count": 9
        }
      ],
      "source": [
        "uber_df = spark.read.csv(UBER_DATA, header=True,schema=schema)\n",
        "uber_df.cache()"
      ]
    },
    {
      "cell_type": "code",
      "execution_count": null,
      "metadata": {
        "colab": {
          "base_uri": "https://localhost:8080/"
        },
        "id": "mKYifP3UglDz",
        "outputId": "c86d9cb7-3978-483f-abe0-39b35758eb3e"
      },
      "outputs": [
        {
          "output_type": "stream",
          "name": "stdout",
          "text": [
            "+-------------------+-------+--------+------+\n",
            "|                 dt|    lat|     lon|  base|\n",
            "+-------------------+-------+--------+------+\n",
            "|2014-06-01 00:00:00|40.7293| -73.992|B02512|\n",
            "|2014-06-01 00:01:00|40.7131|-74.0097|B02512|\n",
            "|2014-06-01 00:04:00|40.3461| -74.661|B02512|\n",
            "|2014-06-01 00:04:00|40.7555|-73.9833|B02512|\n",
            "|2014-06-01 00:07:00| 40.688|-74.1831|B02512|\n",
            "|2014-06-01 00:08:00|40.7152|-73.9917|B02512|\n",
            "|2014-06-01 00:08:00|40.7282| -73.991|B02512|\n",
            "|2014-06-01 00:08:00|40.3042|-73.9794|B02512|\n",
            "|2014-06-01 00:09:00| 40.727|-73.9915|B02512|\n",
            "|2014-06-01 00:10:00|40.7221|-73.9965|B02512|\n",
            "+-------------------+-------+--------+------+\n",
            "only showing top 10 rows\n",
            "\n"
          ]
        }
      ],
      "source": [
        "uber_df.show(10)"
      ]
    },
    {
      "cell_type": "code",
      "execution_count": null,
      "metadata": {
        "colab": {
          "base_uri": "https://localhost:8080/"
        },
        "id": "OuDXuwYligRb",
        "outputId": "58f088d0-c919-45a7-b8ae-7a0ee2d75cf6"
      },
      "outputs": [
        {
          "output_type": "stream",
          "name": "stdout",
          "text": [
            "root\n",
            " |-- dt: timestamp (nullable = true)\n",
            " |-- lat: double (nullable = true)\n",
            " |-- lon: double (nullable = true)\n",
            " |-- base: string (nullable = true)\n",
            "\n"
          ]
        }
      ],
      "source": [
        "uber_df.printSchema()"
      ]
    },
    {
      "cell_type": "code",
      "execution_count": null,
      "metadata": {
        "colab": {
          "base_uri": "https://localhost:8080/"
        },
        "id": "EcFA0sjeivf6",
        "outputId": "920ba94e-a39f-4f0b-c89e-4535b79052e4"
      },
      "outputs": [
        {
          "output_type": "execute_result",
          "data": {
            "text/plain": [
              "542830"
            ]
          },
          "metadata": {},
          "execution_count": 12
        }
      ],
      "source": [
        "uber_df.count()"
      ]
    },
    {
      "cell_type": "code",
      "execution_count": null,
      "metadata": {
        "id": "812EIgBzixtq",
        "colab": {
          "base_uri": "https://localhost:8080/"
        },
        "outputId": "9eb3fc58-3910-45dc-c89b-8506aa1a8f52"
      },
      "outputs": [
        {
          "output_type": "stream",
          "name": "stdout",
          "text": [
            "+-------+-------------------+-------------------+\n",
            "|summary|                lat|                lon|\n",
            "+-------+-------------------+-------------------+\n",
            "|  count|             542830|             542830|\n",
            "|   mean| 40.739974051176084| -73.97416819888568|\n",
            "| stddev|0.03832608279538559|0.05618794458572163|\n",
            "|    min|            39.9558|           -74.8594|\n",
            "|    max|            41.3199|           -72.6966|\n",
            "+-------+-------------------+-------------------+\n",
            "\n"
          ]
        }
      ],
      "source": [
        "uber_df.describe([\"dt\", \"lat\", \"lon\"]).show()"
      ]
    },
    {
      "cell_type": "code",
      "execution_count": null,
      "metadata": {
        "id": "agqpi53wi0D-"
      },
      "outputs": [],
      "source": [
        "feature_columns = ['lat', 'lon']"
      ]
    },
    {
      "cell_type": "code",
      "execution_count": null,
      "metadata": {
        "id": "qXO7bGN5i2Be"
      },
      "outputs": [],
      "source": [
        "feature_assembler = VectorAssembler(inputCols=feature_columns, outputCol=\"features\")"
      ]
    },
    {
      "cell_type": "code",
      "execution_count": null,
      "metadata": {
        "id": "0Q_iclP7i3mq",
        "colab": {
          "base_uri": "https://localhost:8080/"
        },
        "outputId": "cbb7a19a-461e-4790-a3ec-fe0c6f1d9d36"
      },
      "outputs": [
        {
          "output_type": "execute_result",
          "data": {
            "text/plain": [
              "DataFrame[dt: timestamp, lat: double, lon: double, base: string, features: vector]"
            ]
          },
          "metadata": {},
          "execution_count": 16
        }
      ],
      "source": [
        "uber_assembled_df = feature_assembler.transform(uber_df)\n",
        "uber_assembled_df.cache()"
      ]
    },
    {
      "cell_type": "code",
      "source": [
        "uber_assembled_df.show(10)"
      ],
      "metadata": {
        "colab": {
          "base_uri": "https://localhost:8080/"
        },
        "id": "goixlNVeDdRg",
        "outputId": "8740a849-9708-4701-c294-188932b4aef7"
      },
      "execution_count": null,
      "outputs": [
        {
          "output_type": "stream",
          "name": "stdout",
          "text": [
            "+-------------------+-------+--------+------+------------------+\n",
            "|                 dt|    lat|     lon|  base|          features|\n",
            "+-------------------+-------+--------+------+------------------+\n",
            "|2014-06-01 00:00:00|40.7293| -73.992|B02512| [40.7293,-73.992]|\n",
            "|2014-06-01 00:01:00|40.7131|-74.0097|B02512|[40.7131,-74.0097]|\n",
            "|2014-06-01 00:04:00|40.3461| -74.661|B02512| [40.3461,-74.661]|\n",
            "|2014-06-01 00:04:00|40.7555|-73.9833|B02512|[40.7555,-73.9833]|\n",
            "|2014-06-01 00:07:00| 40.688|-74.1831|B02512| [40.688,-74.1831]|\n",
            "|2014-06-01 00:08:00|40.7152|-73.9917|B02512|[40.7152,-73.9917]|\n",
            "|2014-06-01 00:08:00|40.7282| -73.991|B02512| [40.7282,-73.991]|\n",
            "|2014-06-01 00:08:00|40.3042|-73.9794|B02512|[40.3042,-73.9794]|\n",
            "|2014-06-01 00:09:00| 40.727|-73.9915|B02512| [40.727,-73.9915]|\n",
            "|2014-06-01 00:10:00|40.7221|-73.9965|B02512|[40.7221,-73.9965]|\n",
            "+-------------------+-------+--------+------+------------------+\n",
            "only showing top 10 rows\n",
            "\n"
          ]
        }
      ]
    },
    {
      "cell_type": "code",
      "execution_count": null,
      "metadata": {
        "id": "BqiKmTf9i6p7"
      },
      "outputs": [],
      "source": [
        "train_df, test_df = uber_assembled_df.randomSplit([0.7, 0.3], seed=rnd_seed)"
      ]
    },
    {
      "cell_type": "code",
      "execution_count": null,
      "metadata": {
        "id": "gPg3jyUzjK5T",
        "colab": {
          "base_uri": "https://localhost:8080/"
        },
        "outputId": "858e336d-d7aa-429d-c742-c6dee245f151"
      },
      "outputs": [
        {
          "output_type": "execute_result",
          "data": {
            "text/plain": [
              "DataFrame[dt: timestamp, lat: double, lon: double, base: string, features: vector]"
            ]
          },
          "metadata": {},
          "execution_count": 19
        },
        {
          "output_type": "execute_result",
          "data": {
            "text/plain": [
              "DataFrame[dt: timestamp, lat: double, lon: double, base: string, features: vector]"
            ]
          },
          "metadata": {},
          "execution_count": 19
        }
      ],
      "source": [
        "train_df.cache()\n",
        "test_df.cache()"
      ]
    },
    {
      "cell_type": "code",
      "execution_count": null,
      "metadata": {
        "id": "eeKdwubwjM2v",
        "colab": {
          "base_uri": "https://localhost:8080/"
        },
        "outputId": "c9a4cfcd-1ce2-43ab-b794-ba8fc250b77d"
      },
      "outputs": [
        {
          "output_type": "execute_result",
          "data": {
            "text/plain": [
              "DataFrame[dt: timestamp, lat: double, lon: double, base: string]"
            ]
          },
          "metadata": {},
          "execution_count": 20
        },
        {
          "output_type": "execute_result",
          "data": {
            "text/plain": [
              "DataFrame[dt: timestamp, lat: double, lon: double, base: string, features: vector]"
            ]
          },
          "metadata": {},
          "execution_count": 20
        }
      ],
      "source": [
        "uber_df.unpersist()\n",
        "uber_assembled_df.unpersist()"
      ]
    },
    {
      "cell_type": "code",
      "execution_count": null,
      "metadata": {
        "id": "NGPTcXGGjSen"
      },
      "outputs": [],
      "source": [
        "kmeans = KMeans(k=8, initMode='k-means||', featuresCol='features', predictionCol='cluster', maxIter=10)"
      ]
    },
    {
      "cell_type": "code",
      "execution_count": null,
      "metadata": {
        "id": "pd4Nx8h6jVA_"
      },
      "outputs": [],
      "source": [
        "kmModel = kmeans.fit(train_df)"
      ]
    },
    {
      "cell_type": "code",
      "execution_count": null,
      "metadata": {
        "id": "PeXlnAHojW-L",
        "colab": {
          "base_uri": "https://localhost:8080/"
        },
        "outputId": "3a5ea71c-092d-4a9e-f438-18746d3f2083"
      },
      "outputs": [
        {
          "output_type": "stream",
          "name": "stdout",
          "text": [
            "KMeans Cluster Centers: \n",
            "[ 40.7314 -73.9984]\n",
            "[ 40.7657 -73.8733]\n",
            "[ 40.6875 -73.9665]\n",
            "[ 40.6554 -73.7809]\n",
            "[ 40.8908 -73.8852]\n",
            "[ 40.6972 -74.2027]\n",
            "[ 40.7609 -73.5326]\n",
            "[ 40.7653 -73.973 ]\n"
          ]
        }
      ],
      "source": [
        "print(\"KMeans Cluster Centers: \")\n",
        "a=[]\n",
        "for center in kmModel.clusterCenters():\n",
        "    print(center)"
      ]
    },
    {
      "cell_type": "code",
      "source": [
        "test_preds=kmModel.transform(test_df)"
      ],
      "metadata": {
        "id": "-zMZJjinkBop"
      },
      "execution_count": null,
      "outputs": []
    },
    {
      "cell_type": "code",
      "source": [
        "test_preds.show()"
      ],
      "metadata": {
        "colab": {
          "base_uri": "https://localhost:8080/"
        },
        "id": "EDezE0BRQhEU",
        "outputId": "f6e3be45-027e-494f-c4b4-24cfd6a17ef3"
      },
      "execution_count": null,
      "outputs": [
        {
          "output_type": "stream",
          "name": "stdout",
          "text": [
            "+----+-------+--------+------+------------------+-------+\n",
            "|  dt|    lat|     lon|  base|          features|cluster|\n",
            "+----+-------+--------+------+------------------+-------+\n",
            "|null|40.0937|-74.0373|B02512|[40.0937,-74.0373]|      2|\n",
            "|null|40.1097| -74.035|B02512| [40.1097,-74.035]|      2|\n",
            "|null|40.1105|-74.0342|B02598|[40.1105,-74.0342]|      2|\n",
            "|null|40.1111|-74.0342|B02512|[40.1111,-74.0342]|      2|\n",
            "|null|40.1222|-74.0492|B02512|[40.1222,-74.0492]|      2|\n",
            "|null|40.1301|-74.0431|B02512|[40.1301,-74.0431]|      2|\n",
            "|null|40.1362|-74.0328|B02598|[40.1362,-74.0328]|      2|\n",
            "|null|40.1461|-74.0483|B02512|[40.1461,-74.0483]|      2|\n",
            "|null|40.1585|-74.0251|B02512|[40.1585,-74.0251]|      2|\n",
            "|null|40.1636|-74.0487|B02598|[40.1636,-74.0487]|      2|\n",
            "|null|40.1725|-74.0276|B02512|[40.1725,-74.0276]|      2|\n",
            "|null| 40.175|-74.0273|B02598| [40.175,-74.0273]|      2|\n",
            "|null| 40.175|-74.0184|B02512| [40.175,-74.0184]|      2|\n",
            "|null|40.1755|-74.0174|B02512|[40.1755,-74.0174]|      2|\n",
            "|null|40.1776|-74.0241|B02598|[40.1776,-74.0241]|      2|\n",
            "|null| 40.181|-74.0281|B02512| [40.181,-74.0281]|      2|\n",
            "|null|40.1889|-74.0253|B02512|[40.1889,-74.0253]|      2|\n",
            "|null|40.1942|-74.0134|B02512|[40.1942,-74.0134]|      2|\n",
            "|null|40.2148|-74.0133|B02598|[40.2148,-74.0133]|      2|\n",
            "|null|40.2148|-74.0133|B02598|[40.2148,-74.0133]|      2|\n",
            "+----+-------+--------+------+------------------+-------+\n",
            "only showing top 20 rows\n",
            "\n"
          ]
        }
      ]
    },
    {
      "cell_type": "code",
      "source": [
        "print(kmModel.summary.clusterSizes) # No of points in each cluster"
      ],
      "metadata": {
        "colab": {
          "base_uri": "https://localhost:8080/"
        },
        "id": "AzGHa0isG-Tx",
        "outputId": "8dafe1b6-85f8-4650-b6e4-ebf7bdf475fb"
      },
      "execution_count": null,
      "outputs": [
        {
          "output_type": "stream",
          "name": "stdout",
          "text": [
            "[101551, 11710, 76557, 38032, 4243, 13298, 106889, 27624]\n"
          ]
        }
      ]
    },
    {
      "cell_type": "code",
      "source": [
        "print(kmModel.summary.trainingCost)"
      ],
      "metadata": {
        "colab": {
          "base_uri": "https://localhost:8080/"
        },
        "id": "L8k9K7r6HCYs",
        "outputId": "27c84b34-c2d2-42bc-beba-18aafbcd1212"
      },
      "execution_count": null,
      "outputs": [
        {
          "output_type": "stream",
          "name": "stdout",
          "text": [
            "350.02038961709695\n"
          ]
        }
      ]
    },
    {
      "cell_type": "code",
      "source": [
        "plt.scatter(kmeans.cluster_centers_[:, 0], kmeans.cluster_centers_[:, 1], s=300, c='yellow', label = 'Centroids')\n",
        "plt.title('Clusters of Customers')\n",
        "plt.xlabel('Annual Income(k$)')\n",
        "plt.ylabel('Spending Score(1-100')\n",
        "plt.show()"
      ],
      "metadata": {
        "id": "lYTHF0bcUmLf"
      },
      "execution_count": null,
      "outputs": []
    },
    {
      "cell_type": "code",
      "source": [
        "kmModel.write().overwrite().save(\"data/model\")"
      ],
      "metadata": {
        "id": "MJxn8xhBHFH9"
      },
      "execution_count": null,
      "outputs": []
    },
    {
      "cell_type": "code",
      "source": [
        "#Which hours of the day and which cluster had the highest number of pickups?    "
      ],
      "metadata": {
        "id": "gZ2VbA2vmw62"
      },
      "execution_count": null,
      "outputs": []
    },
    {
      "cell_type": "code",
      "source": [
        "test_preds.createOrReplaceTempView(\"test_preds\")"
      ],
      "metadata": {
        "id": "HDRDS-urnuwV"
      },
      "execution_count": null,
      "outputs": []
    },
    {
      "cell_type": "code",
      "source": [
        "plt.figure(figsize=(18,4))\n",
        "sns.scatterplot(x='lat', y=\"lon\", hue=\"cluster\", data=test_df.toPandas());"
      ],
      "metadata": {
        "colab": {
          "base_uri": "https://localhost:8080/",
          "height": 362
        },
        "id": "Mham3iG_klcn",
        "outputId": "1477f883-84f8-4f56-fe5b-948122ca4037"
      },
      "execution_count": null,
      "outputs": [
        {
          "output_type": "error",
          "ename": "ValueError",
          "evalue": "ignored",
          "traceback": [
            "\u001b[0;31m---------------------------------------------------------------------------\u001b[0m",
            "\u001b[0;31mValueError\u001b[0m                                Traceback (most recent call last)",
            "\u001b[0;32m<ipython-input-37-0885dd6e9003>\u001b[0m in \u001b[0;36m<module>\u001b[0;34m()\u001b[0m\n\u001b[1;32m      1\u001b[0m \u001b[0mplt\u001b[0m\u001b[0;34m.\u001b[0m\u001b[0mfigure\u001b[0m\u001b[0;34m(\u001b[0m\u001b[0mfigsize\u001b[0m\u001b[0;34m=\u001b[0m\u001b[0;34m(\u001b[0m\u001b[0;36m18\u001b[0m\u001b[0;34m,\u001b[0m\u001b[0;36m4\u001b[0m\u001b[0;34m)\u001b[0m\u001b[0;34m)\u001b[0m\u001b[0;34m\u001b[0m\u001b[0;34m\u001b[0m\u001b[0m\n\u001b[0;32m----> 2\u001b[0;31m \u001b[0msns\u001b[0m\u001b[0;34m.\u001b[0m\u001b[0mscatterplot\u001b[0m\u001b[0;34m(\u001b[0m\u001b[0mx\u001b[0m\u001b[0;34m=\u001b[0m\u001b[0;34m'lat'\u001b[0m\u001b[0;34m,\u001b[0m \u001b[0my\u001b[0m\u001b[0;34m=\u001b[0m\u001b[0;34m\"lon\"\u001b[0m\u001b[0;34m,\u001b[0m \u001b[0mhue\u001b[0m\u001b[0;34m=\u001b[0m\u001b[0;34m\"cluster\"\u001b[0m\u001b[0;34m,\u001b[0m \u001b[0mdata\u001b[0m\u001b[0;34m=\u001b[0m\u001b[0mtest_df\u001b[0m\u001b[0;34m.\u001b[0m\u001b[0mtoPandas\u001b[0m\u001b[0;34m(\u001b[0m\u001b[0;34m)\u001b[0m\u001b[0;34m)\u001b[0m\u001b[0;34m;\u001b[0m\u001b[0;34m\u001b[0m\u001b[0;34m\u001b[0m\u001b[0m\n\u001b[0m",
            "\u001b[0;32m/usr/local/lib/python3.7/dist-packages/seaborn/_decorators.py\u001b[0m in \u001b[0;36minner_f\u001b[0;34m(*args, **kwargs)\u001b[0m\n\u001b[1;32m     44\u001b[0m             )\n\u001b[1;32m     45\u001b[0m         \u001b[0mkwargs\u001b[0m\u001b[0;34m.\u001b[0m\u001b[0mupdate\u001b[0m\u001b[0;34m(\u001b[0m\u001b[0;34m{\u001b[0m\u001b[0mk\u001b[0m\u001b[0;34m:\u001b[0m \u001b[0marg\u001b[0m \u001b[0;32mfor\u001b[0m \u001b[0mk\u001b[0m\u001b[0;34m,\u001b[0m \u001b[0marg\u001b[0m \u001b[0;32min\u001b[0m \u001b[0mzip\u001b[0m\u001b[0;34m(\u001b[0m\u001b[0msig\u001b[0m\u001b[0;34m.\u001b[0m\u001b[0mparameters\u001b[0m\u001b[0;34m,\u001b[0m \u001b[0margs\u001b[0m\u001b[0;34m)\u001b[0m\u001b[0;34m}\u001b[0m\u001b[0;34m)\u001b[0m\u001b[0;34m\u001b[0m\u001b[0;34m\u001b[0m\u001b[0m\n\u001b[0;32m---> 46\u001b[0;31m         \u001b[0;32mreturn\u001b[0m \u001b[0mf\u001b[0m\u001b[0;34m(\u001b[0m\u001b[0;34m**\u001b[0m\u001b[0mkwargs\u001b[0m\u001b[0;34m)\u001b[0m\u001b[0;34m\u001b[0m\u001b[0;34m\u001b[0m\u001b[0m\n\u001b[0m\u001b[1;32m     47\u001b[0m     \u001b[0;32mreturn\u001b[0m \u001b[0minner_f\u001b[0m\u001b[0;34m\u001b[0m\u001b[0;34m\u001b[0m\u001b[0m\n\u001b[1;32m     48\u001b[0m \u001b[0;34m\u001b[0m\u001b[0m\n",
            "\u001b[0;32m/usr/local/lib/python3.7/dist-packages/seaborn/relational.py\u001b[0m in \u001b[0;36mscatterplot\u001b[0;34m(x, y, hue, style, size, data, palette, hue_order, hue_norm, sizes, size_order, size_norm, markers, style_order, x_bins, y_bins, units, estimator, ci, n_boot, alpha, x_jitter, y_jitter, legend, ax, **kwargs)\u001b[0m\n\u001b[1;32m    810\u001b[0m         \u001b[0mx_bins\u001b[0m\u001b[0;34m=\u001b[0m\u001b[0mx_bins\u001b[0m\u001b[0;34m,\u001b[0m \u001b[0my_bins\u001b[0m\u001b[0;34m=\u001b[0m\u001b[0my_bins\u001b[0m\u001b[0;34m,\u001b[0m\u001b[0;34m\u001b[0m\u001b[0;34m\u001b[0m\u001b[0m\n\u001b[1;32m    811\u001b[0m         \u001b[0mestimator\u001b[0m\u001b[0;34m=\u001b[0m\u001b[0mestimator\u001b[0m\u001b[0;34m,\u001b[0m \u001b[0mci\u001b[0m\u001b[0;34m=\u001b[0m\u001b[0mci\u001b[0m\u001b[0;34m,\u001b[0m \u001b[0mn_boot\u001b[0m\u001b[0;34m=\u001b[0m\u001b[0mn_boot\u001b[0m\u001b[0;34m,\u001b[0m\u001b[0;34m\u001b[0m\u001b[0;34m\u001b[0m\u001b[0m\n\u001b[0;32m--> 812\u001b[0;31m         \u001b[0malpha\u001b[0m\u001b[0;34m=\u001b[0m\u001b[0malpha\u001b[0m\u001b[0;34m,\u001b[0m \u001b[0mx_jitter\u001b[0m\u001b[0;34m=\u001b[0m\u001b[0mx_jitter\u001b[0m\u001b[0;34m,\u001b[0m \u001b[0my_jitter\u001b[0m\u001b[0;34m=\u001b[0m\u001b[0my_jitter\u001b[0m\u001b[0;34m,\u001b[0m \u001b[0mlegend\u001b[0m\u001b[0;34m=\u001b[0m\u001b[0mlegend\u001b[0m\u001b[0;34m,\u001b[0m\u001b[0;34m\u001b[0m\u001b[0;34m\u001b[0m\u001b[0m\n\u001b[0m\u001b[1;32m    813\u001b[0m     )\n\u001b[1;32m    814\u001b[0m \u001b[0;34m\u001b[0m\u001b[0m\n",
            "\u001b[0;32m/usr/local/lib/python3.7/dist-packages/seaborn/relational.py\u001b[0m in \u001b[0;36m__init__\u001b[0;34m(self, data, variables, x_bins, y_bins, estimator, ci, n_boot, alpha, x_jitter, y_jitter, legend)\u001b[0m\n\u001b[1;32m    585\u001b[0m         )\n\u001b[1;32m    586\u001b[0m \u001b[0;34m\u001b[0m\u001b[0m\n\u001b[0;32m--> 587\u001b[0;31m         \u001b[0msuper\u001b[0m\u001b[0;34m(\u001b[0m\u001b[0;34m)\u001b[0m\u001b[0;34m.\u001b[0m\u001b[0m__init__\u001b[0m\u001b[0;34m(\u001b[0m\u001b[0mdata\u001b[0m\u001b[0;34m=\u001b[0m\u001b[0mdata\u001b[0m\u001b[0;34m,\u001b[0m \u001b[0mvariables\u001b[0m\u001b[0;34m=\u001b[0m\u001b[0mvariables\u001b[0m\u001b[0;34m)\u001b[0m\u001b[0;34m\u001b[0m\u001b[0;34m\u001b[0m\u001b[0m\n\u001b[0m\u001b[1;32m    588\u001b[0m \u001b[0;34m\u001b[0m\u001b[0m\n\u001b[1;32m    589\u001b[0m         \u001b[0mself\u001b[0m\u001b[0;34m.\u001b[0m\u001b[0malpha\u001b[0m \u001b[0;34m=\u001b[0m \u001b[0malpha\u001b[0m\u001b[0;34m\u001b[0m\u001b[0;34m\u001b[0m\u001b[0m\n",
            "\u001b[0;32m/usr/local/lib/python3.7/dist-packages/seaborn/_core.py\u001b[0m in \u001b[0;36m__init__\u001b[0;34m(self, data, variables)\u001b[0m\n\u001b[1;32m    603\u001b[0m     \u001b[0;32mdef\u001b[0m \u001b[0m__init__\u001b[0m\u001b[0;34m(\u001b[0m\u001b[0mself\u001b[0m\u001b[0;34m,\u001b[0m \u001b[0mdata\u001b[0m\u001b[0;34m=\u001b[0m\u001b[0;32mNone\u001b[0m\u001b[0;34m,\u001b[0m \u001b[0mvariables\u001b[0m\u001b[0;34m=\u001b[0m\u001b[0;34m{\u001b[0m\u001b[0;34m}\u001b[0m\u001b[0;34m)\u001b[0m\u001b[0;34m:\u001b[0m\u001b[0;34m\u001b[0m\u001b[0;34m\u001b[0m\u001b[0m\n\u001b[1;32m    604\u001b[0m \u001b[0;34m\u001b[0m\u001b[0m\n\u001b[0;32m--> 605\u001b[0;31m         \u001b[0mself\u001b[0m\u001b[0;34m.\u001b[0m\u001b[0massign_variables\u001b[0m\u001b[0;34m(\u001b[0m\u001b[0mdata\u001b[0m\u001b[0;34m,\u001b[0m \u001b[0mvariables\u001b[0m\u001b[0;34m)\u001b[0m\u001b[0;34m\u001b[0m\u001b[0;34m\u001b[0m\u001b[0m\n\u001b[0m\u001b[1;32m    606\u001b[0m \u001b[0;34m\u001b[0m\u001b[0m\n\u001b[1;32m    607\u001b[0m         \u001b[0;32mfor\u001b[0m \u001b[0mvar\u001b[0m\u001b[0;34m,\u001b[0m \u001b[0mcls\u001b[0m \u001b[0;32min\u001b[0m \u001b[0mself\u001b[0m\u001b[0;34m.\u001b[0m\u001b[0m_semantic_mappings\u001b[0m\u001b[0;34m.\u001b[0m\u001b[0mitems\u001b[0m\u001b[0;34m(\u001b[0m\u001b[0;34m)\u001b[0m\u001b[0;34m:\u001b[0m\u001b[0;34m\u001b[0m\u001b[0;34m\u001b[0m\u001b[0m\n",
            "\u001b[0;32m/usr/local/lib/python3.7/dist-packages/seaborn/_core.py\u001b[0m in \u001b[0;36massign_variables\u001b[0;34m(self, data, variables)\u001b[0m\n\u001b[1;32m    667\u001b[0m             \u001b[0mself\u001b[0m\u001b[0;34m.\u001b[0m\u001b[0minput_format\u001b[0m \u001b[0;34m=\u001b[0m \u001b[0;34m\"long\"\u001b[0m\u001b[0;34m\u001b[0m\u001b[0;34m\u001b[0m\u001b[0m\n\u001b[1;32m    668\u001b[0m             plot_data, variables = self._assign_variables_longform(\n\u001b[0;32m--> 669\u001b[0;31m                 \u001b[0mdata\u001b[0m\u001b[0;34m,\u001b[0m \u001b[0;34m**\u001b[0m\u001b[0mvariables\u001b[0m\u001b[0;34m,\u001b[0m\u001b[0;34m\u001b[0m\u001b[0;34m\u001b[0m\u001b[0m\n\u001b[0m\u001b[1;32m    670\u001b[0m             )\n\u001b[1;32m    671\u001b[0m \u001b[0;34m\u001b[0m\u001b[0m\n",
            "\u001b[0;32m/usr/local/lib/python3.7/dist-packages/seaborn/_core.py\u001b[0m in \u001b[0;36m_assign_variables_longform\u001b[0;34m(self, data, **kwargs)\u001b[0m\n\u001b[1;32m    901\u001b[0m \u001b[0;34m\u001b[0m\u001b[0m\n\u001b[1;32m    902\u001b[0m                 \u001b[0merr\u001b[0m \u001b[0;34m=\u001b[0m \u001b[0;34mf\"Could not interpret value `{val}` for parameter `{key}`\"\u001b[0m\u001b[0;34m\u001b[0m\u001b[0;34m\u001b[0m\u001b[0m\n\u001b[0;32m--> 903\u001b[0;31m                 \u001b[0;32mraise\u001b[0m \u001b[0mValueError\u001b[0m\u001b[0;34m(\u001b[0m\u001b[0merr\u001b[0m\u001b[0;34m)\u001b[0m\u001b[0;34m\u001b[0m\u001b[0;34m\u001b[0m\u001b[0m\n\u001b[0m\u001b[1;32m    904\u001b[0m \u001b[0;34m\u001b[0m\u001b[0m\n\u001b[1;32m    905\u001b[0m             \u001b[0;32melse\u001b[0m\u001b[0;34m:\u001b[0m\u001b[0;34m\u001b[0m\u001b[0;34m\u001b[0m\u001b[0m\n",
            "\u001b[0;31mValueError\u001b[0m: Could not interpret value `cluster` for parameter `hue`"
          ]
        },
        {
          "output_type": "display_data",
          "data": {
            "text/plain": [
              "<Figure size 1296x288 with 0 Axes>"
            ]
          },
          "metadata": {}
        }
      ]
    },
    {
      "cell_type": "code",
      "source": [
        "import re\n",
        "\n",
        "def strip_margin(text):\n",
        "    nomargin = re.sub('\\n[ \\t]*\\|', ' ', text)\n",
        "    trimmed = re.sub('\\s+', ' ', nomargin)\n",
        "    return trimmed"
      ],
      "metadata": {
        "id": "eShRGLcxnHL2"
      },
      "execution_count": null,
      "outputs": []
    },
    {
      "cell_type": "code",
      "source": [
        "sql_result_df = spark.sql(strip_margin(\n",
        "                        \"\"\"SELECT \n",
        "                          |    HOUR(dt) AS hour, \n",
        "                          |    cluster,\n",
        "                          |    COUNT(*) as count\n",
        "                          |FROM test_preds\n",
        "                          |GROUP BY hour, cluster\n",
        "                          |ORDER BY count DESC\n",
        "                        \"\"\"))\n",
        "sql_result_df.cache()"
      ],
      "metadata": {
        "colab": {
          "base_uri": "https://localhost:8080/"
        },
        "id": "IRk6nL76mgla",
        "outputId": "88b45c3d-4e66-4c2e-c2ae-1a1eb28d831b"
      },
      "execution_count": null,
      "outputs": [
        {
          "output_type": "execute_result",
          "data": {
            "text/plain": [
              "DataFrame[hour: int, cluster: int, count: bigint]"
            ]
          },
          "metadata": {},
          "execution_count": 34
        }
      ]
    },
    {
      "cell_type": "code",
      "source": [
        "plt.figure(figsize=(18,4))\n",
        "sns.barplot(x=\"hour\", y=\"count\", hue=\"cluster\", data=sql_result_df.toPandas());"
      ],
      "metadata": {
        "colab": {
          "base_uri": "https://localhost:8080/",
          "height": 304
        },
        "id": "7WZUyAyvqj6n",
        "outputId": "5b552f74-ed7a-4a6f-a8c1-80ea45432508"
      },
      "execution_count": null,
      "outputs": [
        {
          "output_type": "display_data",
          "data": {
            "text/plain": [
              "<Figure size 1296x288 with 1 Axes>"
            ],
            "image/png": "[encoded data removed]"
          },
          "metadata": {
            "image/png": {
              "width": 1072,
              "height": 267
            },
            "needs_background": "light"
          }
        }
      ]
    },
    {
      "cell_type": "code",
      "source": [
        "sql_result_df.unpersist()"
      ],
      "metadata": {
        "colab": {
          "base_uri": "https://localhost:8080/"
        },
        "id": "72BFLJooqoGY",
        "outputId": "483af79a-4b09-453d-c72e-81dd96eb8357"
      },
      "execution_count": null,
      "outputs": [
        {
          "output_type": "execute_result",
          "data": {
            "text/plain": [
              "DataFrame[hour: int, cluster: int, count: bigint]"
            ]
          },
          "metadata": {},
          "execution_count": 37
        }
      ]
    },
    {
      "cell_type": "code",
      "source": [
        "(test_preds\n",
        "    .select(F.hour(\"dt\").alias(\"hour\"), \"cluster\")\n",
        "    .groupBy([\"hour\", \"cluster\"])\n",
        "    .count()\n",
        "    .orderBy(F.desc(\"count\"))).show(10)"
      ],
      "metadata": {
        "colab": {
          "base_uri": "https://localhost:8080/"
        },
        "id": "VSIbU-HihKvc",
        "outputId": "ab442b36-e98a-424f-a9ff-acb7cae768cc"
      },
      "execution_count": null,
      "outputs": [
        {
          "output_type": "stream",
          "name": "stdout",
          "text": [
            "+----+-------+-----+\n",
            "|hour|cluster|count|\n",
            "+----+-------+-----+\n",
            "|null|      0|34020|\n",
            "|null|      5|31266|\n",
            "|null|      7|10022|\n",
            "|null|      4| 3135|\n",
            "|  17|      5| 2812|\n",
            "|  16|      5| 2775|\n",
            "|  17|      0| 2556|\n",
            "|null|      1| 2524|\n",
            "|  16|      0| 2364|\n",
            "|  18|      5| 2357|\n",
            "+----+-------+-----+\n",
            "only showing top 10 rows\n",
            "\n"
          ]
        }
      ]
    },
    {
      "cell_type": "code",
      "source": [
        "#How many pickups occurred in each cluster?"
      ],
      "metadata": {
        "id": "nZUsiAL0hPyW"
      },
      "execution_count": null,
      "outputs": []
    },
    {
      "cell_type": "code",
      "source": [
        "sql_result_df = spark.sql(strip_margin(\n",
        "                        \"\"\"SELECT cluster, COUNT(cluster) AS count\n",
        "                          |FROM test_preds\n",
        "                          |GROUP BY cluster\n",
        "                          |ORDER BY cluster\n",
        "                        \"\"\"))\n",
        "sql_result_df.cache()"
      ],
      "metadata": {
        "colab": {
          "base_uri": "https://localhost:8080/"
        },
        "id": "Z3sP6cxMhMm7",
        "outputId": "9d4ed1ef-79b9-4566-c6e4-ecaf2d41394a"
      },
      "execution_count": null,
      "outputs": [
        {
          "output_type": "execute_result",
          "data": {
            "text/plain": [
              "DataFrame[cluster: int, count: bigint]"
            ]
          },
          "metadata": {},
          "execution_count": 39
        }
      ]
    },
    {
      "cell_type": "code",
      "source": [
        "plt.figure(figsize=(18,4))\n",
        "sns.barplot(x=\"cluster\", y=\"count\", data=sql_result_df.toPandas())\n",
        "plt.title(\"Total Pickups By Cluster\");"
      ],
      "metadata": {
        "colab": {
          "base_uri": "https://localhost:8080/",
          "height": 319
        },
        "id": "oRGgbkFEhPQ8",
        "outputId": "33afeffc-0e90-40f6-f2f1-e9bdb71044ef"
      },
      "execution_count": null,
      "outputs": [
        {
          "output_type": "display_data",
          "data": {
            "text/plain": [
              "<Figure size 1296x288 with 1 Axes>"
            ],
            "image/png": "[encoded data removed]"
          },
          "metadata": {
            "image/png": {
              "width": 1079,
              "height": 282
            },
            "needs_background": "light"
          }
        }
      ]
    },
    {
      "cell_type": "code",
      "source": [
        "#How many pickups occurred in each hour?"
      ],
      "metadata": {
        "id": "tdk0hmvkhU17"
      },
      "execution_count": null,
      "outputs": []
    },
    {
      "cell_type": "code",
      "source": [
        "sql_result_df = spark.sql(strip_margin(\n",
        "                        \"\"\"SELECT \n",
        "                          |    HOUR(dt) AS hour, \n",
        "                          |    COUNT(cluster) AS count\n",
        "                          |FROM test_preds\n",
        "                          |GROUP BY hour\n",
        "                          |ORDER BY hour\n",
        "                        \"\"\"))\n",
        "sql_result_df.cache()"
      ],
      "metadata": {
        "colab": {
          "base_uri": "https://localhost:8080/"
        },
        "id": "YL2ABGNMhfAG",
        "outputId": "18d8833f-2b8f-4ce2-efdf-f124257a4cb7"
      },
      "execution_count": null,
      "outputs": [
        {
          "output_type": "execute_result",
          "data": {
            "text/plain": [
              "DataFrame[hour: int, count: bigint]"
            ]
          },
          "metadata": {},
          "execution_count": 43
        }
      ]
    },
    {
      "cell_type": "code",
      "source": [
        "plt.figure(figsize=(18,4))\n",
        "sns.barplot(x=\"hour\", y=\"count\", data=sql_result_df.toPandas())\n",
        "plt.title(\"Total Pickups By Hour\");"
      ],
      "metadata": {
        "colab": {
          "base_uri": "https://localhost:8080/",
          "height": 319
        },
        "id": "ZqNt32v9hh4C",
        "outputId": "e2aafd74-8554-4076-bc42-6c7e86914a39"
      },
      "execution_count": null,
      "outputs": [
        {
          "output_type": "display_data",
          "data": {
            "text/plain": [
              "<Figure size 1296x288 with 1 Axes>"
            ],
            "image/png": "[encoded data removed]"
          },
          "metadata": {
            "image/png": {
              "width": 1072,
              "height": 282
            },
            "needs_background": "light"
          }
        }
      ]
    }
  ],
  "metadata": {
    "colab": {
      "name": "Big Data pyspark",
      "provenance": [],
      "collapsed_sections": []
    },
    "kernelspec": {
      "display_name": "Python 3",
      "name": "python3"
    },
    "language_info": {
      "name": "python"
    },
    "accelerator": "GPU"
  },
  "nbformat": 4,
  "nbformat_minor": 0
}